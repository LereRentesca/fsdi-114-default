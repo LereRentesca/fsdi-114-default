{
 "cells": [
  {
   "cell_type": "markdown",
   "id": "0a75ff53",
   "metadata": {},
   "source": [
    "# Class 3 - Custom Stacks and Queues"
   ]
  },
  {
   "cell_type": "code",
   "execution_count": 2,
   "id": "9d6ef413",
   "metadata": {},
   "outputs": [],
   "source": [
    "class Stack:\n",
    "    def __init__(self):\n",
    "        self.items = []\n",
    "    \n",
    "    def push(self,value):\n",
    "        self.items.append(value)\n",
    "\n",
    "    def pop(self):\n",
    "        return self.items.pop()\n",
    "    \n",
    "    def size(self):\n",
    "        return len(self.items)\n",
    "    \n",
    "    def peek(self):\n",
    "        return self.items[len(self.items)-1]\n",
    "    \n",
    "    def is_empty(self):\n",
    "        return self.items == []"
   ]
  },
  {
   "cell_type": "markdown",
   "id": "851103e5",
   "metadata": {},
   "source": [
    "# Problem 2\n",
    "### Use the stack class above to invert a string\n",
    "\n",
    "```\n",
    "example:\n",
    "given \"Rafael\" your function should return leafaR\n",
    "given \"stars\" your function should return \"srats\"\n",
    "given \"cool\" your function should return \"looc\"\n",
    "```\n",
    "\n",
    "Your function must receive a string as a parameter and return a string(not a list)\n",
    "\n",
    "Your function must use the stack class above\n",
    "\n",
    "You cannot google anything for this challenge"
   ]
  },
  {
   "cell_type": "code",
   "execution_count": 6,
   "id": "7a574657",
   "metadata": {},
   "outputs": [
    {
     "name": "stdout",
     "output_type": "stream",
     "text": [
      "1\n",
      "0\n",
      "abcdddeeee\n"
     ]
    },
    {
     "data": {
      "text/plain": [
       "'leafaR'"
      ]
     },
     "execution_count": 6,
     "metadata": {},
     "output_type": "execute_result"
    }
   ],
   "source": [
    "def invert_string(str1):\n",
    "    obj  = Stack()\n",
    "    #inverted_string = []\n",
    "    concat=\"\"\n",
    "\n",
    "    for letter in str1:\n",
    "        obj.push(letter)\n",
    "\n",
    "    # for i in range(0,obj.size()):\n",
    "    #     inverted_string.append(obj.pop())\n",
    "    #     concat = concat+inverted_string[i]\n",
    "\n",
    "    while not obj.is_empty():\n",
    "        concat += obj.pop()\n",
    "    return concat\n",
    "\n",
    "def caliz(str1):\n",
    "    pos = str1[0]\n",
    "    count = 0\n",
    "    for letter in range(0,len(str1)):\n",
    "        if str1[letter] == pos:\n",
    "            count+=1\n",
    "            print(count)\n",
    "        else:\n",
    "            count=0\n",
    "            break\n",
    "        print(letter)\n",
    "    return str1\n",
    "    \n",
    "print(caliz(\"abcdddeeee\"))\n",
    "invert_string(\"Rafael\")"
   ]
  },
  {
   "cell_type": "code",
   "execution_count": null,
   "id": "f2e19198",
   "metadata": {},
   "outputs": [
    {
     "ename": "TypeError",
     "evalue": "'Stack' object is not iterable",
     "output_type": "error",
     "traceback": [
      "\u001b[0;31m---------------------------------------------------------------------------\u001b[0m",
      "\u001b[0;31mTypeError\u001b[0m                                 Traceback (most recent call last)",
      "Cell \u001b[0;32mIn[4], line 12\u001b[0m\n\u001b[1;32m      9\u001b[0m         out \u001b[38;5;241m+\u001b[39m\u001b[38;5;241m=\u001b[39m stack\u001b[38;5;241m.\u001b[39mpop()\n\u001b[1;32m     10\u001b[0m     \u001b[38;5;28;01mreturn\u001b[39;00m out\n\u001b[0;32m---> 12\u001b[0m \u001b[43minvert\u001b[49m\u001b[43m(\u001b[49m\u001b[38;5;124;43m\"\u001b[39;49m\u001b[38;5;124;43mRafael\u001b[39;49m\u001b[38;5;124;43m\"\u001b[39;49m\u001b[43m)\u001b[49m\n",
      "Cell \u001b[0;32mIn[4], line 6\u001b[0m, in \u001b[0;36minvert\u001b[0;34m(mystring)\u001b[0m\n\u001b[1;32m      4\u001b[0m \u001b[38;5;28;01mfor\u001b[39;00m letter \u001b[38;5;129;01min\u001b[39;00m mystring:\n\u001b[1;32m      5\u001b[0m     stack\u001b[38;5;241m.\u001b[39mpush(letter)\n\u001b[0;32m----> 6\u001b[0m \u001b[38;5;28;01mfor\u001b[39;00m i \u001b[38;5;129;01min\u001b[39;00m stack:\n\u001b[1;32m      7\u001b[0m     \u001b[38;5;28mprint\u001b[39m(i)\n\u001b[1;32m      8\u001b[0m \u001b[38;5;28;01mwhile\u001b[39;00m \u001b[38;5;129;01mnot\u001b[39;00m stack\u001b[38;5;241m.\u001b[39mis_empty():\n",
      "\u001b[0;31mTypeError\u001b[0m: 'Stack' object is not iterable"
     ]
    }
   ],
   "source": [
    "def invert(mystring):\n",
    "    stack = Stack()\n",
    "    out = \"\"\n",
    "    for letter in mystring:\n",
    "        stack.push(letter)\n",
    "    while not stack.is_empty():\n",
    "        out += stack.pop()\n",
    "    return out\n",
    "\n",
    "invert(\"Rafael\")"
   ]
  },
  {
   "cell_type": "code",
   "execution_count": 9,
   "id": "b698c71e",
   "metadata": {},
   "outputs": [],
   "source": [
    "# Custom Stack class\n",
    "\n",
    "class CStack:\n",
    "    class Node:\n",
    "        def __init__(self,data):\n",
    "            self.data = data    \n",
    "            self.below = None\n",
    "\n",
    "    def __init__(self):\n",
    "        self.top = None\n",
    "\n",
    "    def push(self,value):\n",
    "        if not self.top:\n",
    "            self.top = self.Node(value)\n",
    "        else:\n",
    "            new_node = self.Node(value)\n",
    "            new_node.below = self.top\n",
    "            self.top = new_node\n",
    "\n",
    "    def pop(self):\n",
    "        if not self.top:\n",
    "            raise IndexError(\"Stack is empty\")\n",
    "        else:\n",
    "            datum = self.top.data\n",
    "            self.top = self.top.below\n",
    "            return datum\n",
    "    \n",
    "    def is_empty(self):\n",
    "        return self.top == None\n"
   ]
  },
  {
   "cell_type": "code",
   "execution_count": 11,
   "id": "38ecf8dd",
   "metadata": {},
   "outputs": [
    {
     "data": {
      "text/plain": [
       "'osep'"
      ]
     },
     "execution_count": 11,
     "metadata": {},
     "output_type": "execute_result"
    }
   ],
   "source": [
    "def custom_invert(mystring):\n",
    "    stack = CStack()\n",
    "    for char in mystring:\n",
    "        stack.push(char)\n",
    "    out = \"\"\n",
    "    while not stack.is_empty():\n",
    "        out += stack.pop()\n",
    "    return out\n",
    "\n",
    "custom_invert(\"peso\")"
   ]
  },
  {
   "cell_type": "code",
   "execution_count": null,
   "id": "55db248a",
   "metadata": {},
   "outputs": [
    {
     "data": {
      "text/plain": [
       "46"
      ]
     },
     "execution_count": 6,
     "metadata": {},
     "output_type": "execute_result"
    }
   ],
   "source": [
    "class CQueue:\n",
    "    class Node:\n",
    "        def __init__(self,data):\n",
    "            self.data = data\n",
    "            self.next = None\n",
    "\n",
    "    def __init__(self):\n",
    "        self.front = None\n",
    "        self.rear = None\n",
    "        self.length = 0\n",
    "\n",
    "    def is_empty(self):\n",
    "        return self.front is None\n",
    "\n",
    "    def enqueue(self, data):\n",
    "        new_node = self.Node(data)\n",
    "        if self.is_empty():\n",
    "            self.front = new_node\n",
    "            self.rear = new_node\n",
    "        else:\n",
    "            self.rear.next = new_node\n",
    "            self.rear = new_node\n",
    "        self.length += 1\n",
    "\n",
    "    def dequeue(self):\n",
    "        if self.is_empty():\n",
    "            return None\n",
    "        else:\n",
    "            dequeued_node = self.front\n",
    "            self.front = self.front.next\n",
    "            self.length -= 1\n",
    "            if self.is_empty():\n",
    "                self.rear = None\n",
    "            return dequeued_node.data\n",
    "\n",
    "\n",
    "new_queue = CQueue()\n",
    "new_queue.enqueue(46)\n",
    "new_queue.enqueue(45)\n",
    "new_queue.enqueue(22)\n",
    "new_queue.enqueue(10)\n",
    "new_queue.enqueue(20)\n",
    "new_queue.dequeue()\n",
    "            "
   ]
  }
 ],
 "metadata": {
  "kernelspec": {
   "display_name": "Python 3 (ipykernel)",
   "language": "python",
   "name": "python3"
  },
  "language_info": {
   "codemirror_mode": {
    "name": "ipython",
    "version": 3
   },
   "file_extension": ".py",
   "mimetype": "text/x-python",
   "name": "python",
   "nbconvert_exporter": "python",
   "pygments_lexer": "ipython3",
   "version": "3.10.12"
  }
 },
 "nbformat": 4,
 "nbformat_minor": 5
}
