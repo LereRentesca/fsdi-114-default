{
 "cells": [
  {
   "cell_type": "markdown",
   "id": "15d6f192",
   "metadata": {},
   "source": [
    "# Problem 1\n",
    "\n",
    "### Anagram check\n",
    "\n",
    "Create a function that takes two strings as parameters and returns True if they ara anagrams of each other, False otherwise.\n",
    "```\n",
    "Examples:\n",
    "1. heart and earth\n",
    "2. scar and cars\n",
    "3. star and rats\n",
    "etc\n",
    "```\n",
    "\n",
    "\n",
    "### Criteria\n",
    "Two strings are anagrams of each other if and only if all of the criteria below are met:\n",
    "> 1. They must use all the same characters\n",
    "> 2. They must be of exactly the same length (in characters)\n",
    "\n"
   ]
  },
  {
   "cell_type": "code",
   "execution_count": 1,
   "id": "a4c5bb5f",
   "metadata": {},
   "outputs": [
    {
     "data": {
      "text/plain": [
       "True"
      ]
     },
     "execution_count": 1,
     "metadata": {},
     "output_type": "execute_result"
    }
   ],
   "source": [
    "def check_anagrams(w1,w2):\n",
    "    w1 = w1.lower().replace(\" \",\"\")\n",
    "    w2 = w2.lower().replace(\" \",\"\")\n",
    "    dic1 = {}\n",
    "    dic2 = {}\n",
    "    if(len(w1) == len(w2)):\n",
    "        for letter in w1:\n",
    "            if(dic1.get(letter) == None):\n",
    "                dic1[letter] = 1\n",
    "            else:\n",
    "                dic1[letter] += 1\n",
    "        for letter in w2:\n",
    "            if(dic2.get(letter) == None):\n",
    "                dic2[letter] = 1\n",
    "            else:\n",
    "                dic2[letter] += 1\n",
    "            \n",
    "        return dic1 == dic2\n",
    "            \n",
    "\n",
    "check_anagrams(\"Tom Marvolo Riddle\",\"I am Lord Voldemort\")"
   ]
  },
  {
   "cell_type": "code",
   "execution_count": 17,
   "id": "c06b9d85",
   "metadata": {},
   "outputs": [],
   "source": [
    "# Pseudocode -> Not real code (intented to help us not get stuck on the programming language syntax)\n",
    "\n",
    "# define new function \"anagram_check\" with parameters: s1, and s2 (of type string):\n",
    "# s1 = s1 without spaces and in lower case\n",
    "# s2 = s2 without spaces and in lower case\n",
    "# if the length of s1 is not equal to the length of s2:\n",
    "#   return False\n",
    "# d1 = new dictionary\n",
    "# d2 = new dictionary\n",
    "# for each \"number\" in the range between 0 and the length of s1:\n",
    "#   if the letter at position \"number\" in s1 is not in d1:\n",
    "#       create a new entry in d1 for the letter at positon \"number\" and set the value to 1\n",
    "#   otherwise:\n",
    "#       add 1 to the value associated with the letter at position \"number\" in s1 to d1\n",
    "#   if the letter at position \"number\" in s2 is not in d2:\n",
    "#       create a new entry in d2 for the letter at position \"number\" and set the value to 1\n",
    "#   otherwise:\n",
    "#       add 1 to the value associated with the letter at position \"number\" in s2 to d2\n",
    "#   if d1 == d2:\n",
    "#       return True\n",
    "#   otherwise:\n",
    "#       return False"
   ]
  },
  {
   "cell_type": "markdown",
   "id": "74b1b127",
   "metadata": {},
   "source": [
    "# Stack and Queues\n",
    "\n",
    "## Stack\n",
    "A stack is an ordered collection of elements where items are added and removed from one end, commonly referred to as the \"top\". The ordering principle is referred to as LIFO (last in, first out)\n",
    "\n",
    "Talk about the pringles exampleeeee\n",
    "\n",
    "## Queue\n",
    "A queue is an orderd collection of elements where items are added and removed from **opposite** ends, commonly referred to as the \"front\" and \"back\" or \"rear\" of the queue. The ordering principle is referred to as FIFO (first in, first out) or \"first come first served\"."
   ]
  },
  {
   "cell_type": "code",
   "execution_count": 18,
   "id": "885bf773",
   "metadata": {},
   "outputs": [],
   "source": [
    "#Simplified version (relying on built-in functions)\n",
    "\n",
    "class Stack:\n",
    "    def __init__(self):\n",
    "        self.items = []\n",
    "    \n",
    "    def push(self, elements):\n",
    "        self.items.append(elements)\n",
    "\n",
    "    def pop(self):\n",
    "        return self.items.pop()\n",
    "    \n",
    "    # Nice to have methods\n",
    "    def peek(self):\n",
    "        return self.items[len(self.items)-1]\n",
    "    \n",
    "    def size(self):\n",
    "        return len(self.items)\n",
    "    \n",
    "    def is_empty(self):\n",
    "        return self.items == []"
   ]
  },
  {
   "cell_type": "code",
   "execution_count": null,
   "id": "187176a2",
   "metadata": {},
   "outputs": [],
   "source": [
    "# Simplified Queue (relying on built-ins)\n",
    "\n",
    "class Queue:\n",
    "    def __init__(self):\n",
    "        self.items = []\n",
    "\n",
    "    def enqueue(self,element):\n",
    "        self.items.insert(0,element)\n",
    "\n",
    "    def dequeue(self):\n",
    "        return self.items.pop()\n",
    "    \n",
    "    # Nice to have methods\n",
    "    def peek(self):\n",
    "        return self.items[len(self.items)-1]\n",
    "    \n",
    "    def size(self):\n",
    "        return len(self.items)\n",
    "    \n",
    "    def is_empty(self):\n",
    "        return self.items == []"
   ]
  }
 ],
 "metadata": {
  "kernelspec": {
   "display_name": "Python 3 (ipykernel)",
   "language": "python",
   "name": "python3"
  }
 },
 "nbformat": 4,
 "nbformat_minor": 5
}
