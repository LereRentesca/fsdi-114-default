{
 "cells": [
  {
   "cell_type": "code",
   "execution_count": null,
   "id": "3a10757d",
   "metadata": {},
   "outputs": [
    {
     "name": "stdout",
     "output_type": "stream",
     "text": [
      "H\n",
      "e\n",
      "l\n",
      "l\n",
      "o\n",
      ",\n",
      " \n",
      "W\n",
      "o\n",
      "r\n",
      "l\n",
      "d\n"
     ]
    }
   ],
   "source": [
    "for char in \"Hello, World\":\n",
    "    print(char)\n",
    "\n",
    "# Press shift+enter"
   ]
  },
  {
   "cell_type": "markdown",
   "id": "28e7f931",
   "metadata": {},
   "source": [
    "# Problem 1\n",
    "\n",
    "### Find the total of numbers from Collection that divided by 2 the module is 0\n",
    "\n",
    "```\n",
    "Examples:\n",
    "1. Given [3,4,10,15,999,2] Then the ouput should be: total=3\n",
    "2. Given [2,4,6,10,3.7] Then the output should be: total=4\n",
    "```\n",
    "\n",
    "### Criteria\n",
    "1. Create a function that receives a collection and return an integer with the total\n",
    "\n",
    "### Hint\n",
    "- '%' is the mathemic operand to get the module from a division.\n",
    "- 2 % 2 = 0\n",
    "\n",
    "The collection is numbers = [3,5,27,20,6,3.5,60]"
   ]
  },
  {
   "cell_type": "code",
   "execution_count": null,
   "id": "134b02cd",
   "metadata": {},
   "outputs": [
    {
     "data": {
      "text/plain": [
       "3"
      ]
     },
     "execution_count": 1,
     "metadata": {},
     "output_type": "execute_result"
    }
   ],
   "source": [
    "numbers = [3,5,27,20,6,3.5,60]\n",
    "\n",
    "def calculate_total(n):\n",
    "    total = 0\n",
    "    for number in n:\n",
    "        if number % 2 == 0:\n",
    "            total += 1\n",
    "    return total\n",
    "\n",
    "calculate_total(numbers)"
   ]
  }
 ],
 "metadata": {
  "kernelspec": {
   "display_name": "Python 3 (ipykernel)",
   "language": "python",
   "name": "python3"
  }
 },
 "nbformat": 4,
 "nbformat_minor": 5
}
